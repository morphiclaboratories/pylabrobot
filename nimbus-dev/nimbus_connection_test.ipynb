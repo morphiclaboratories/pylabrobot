{
  "cells": [
    {
      "cell_type": "markdown",
      "metadata": {},
      "source": [
        "# Nimbus Connection Test\n",
        "\n",
        "Simple test using `backend.setup()` - logs show all packet details.\n"
      ]
    },
    {
      "cell_type": "code",
      "execution_count": 1,
      "metadata": {},
      "outputs": [],
      "source": [
        "import sys\n",
        "import logging\n",
        "from pathlib import Path\n",
        "\n",
        "from pylabrobot.liquid_handling.backends.hamilton.hamilton_tcp_backend import HamiltonTCPBase\n",
        "\n",
        "# PyLabRobot sets logger.propagate = False, so we need to add a console handler directly\n",
        "# plr_logger = logging.getLogger('pylabrobot')\n",
        "# plr_logger.setLevel(logging.INFO)  # INFO for normal use, DEBUG for troubleshooting\n",
        "#  Clear existing handlers and add console handler\n",
        "# plr_logger.handlers.clear()\n",
        "# console_handler = logging.StreamHandler(sys.stdout)\n",
        "# console_handler.setFormatter(logging.Formatter('%(levelname)s - %(message)s'))\n",
        "# plr_logger.addHandler(console_handler)\n"
      ]
    },
    {
      "cell_type": "code",
      "execution_count": 2,
      "metadata": {},
      "outputs": [
        {
          "name": "stdout",
          "output_type": "stream",
          "text": [
            "\n",
            "============================================================\n",
            "SETUP COMPLETE\n",
            "============================================================\n",
            "Client ID: 6\n",
            "Client Address: 2:6:65535\n",
            "Root Objects: [Address(module=1, node=1, object=48896)]\n"
          ]
        }
      ],
      "source": [
        "# Connect and setup\n",
        "backend = HamiltonTCPBase(\n",
        "    host=\"192.168.100.100\",\n",
        "    port=2000,\n",
        "    read_timeout=30,\n",
        "    write_timeout=30\n",
        ")\n",
        "\n",
        "await backend.setup()\n",
        "\n",
        "print(\"\\n\" + \"=\"*60)\n",
        "print(\"SETUP COMPLETE\")\n",
        "print(\"=\"*60)\n",
        "print(f\"Client ID: {backend._client_id}\")\n",
        "print(f\"Client Address: {backend.client_address}\")\n",
        "print(f\"Root Objects: {backend._discovered_objects.get('root', [])}\")\n"
      ]
    },
    {
      "cell_type": "code",
      "execution_count": 3,
      "metadata": {},
      "outputs": [
        {
          "name": "stderr",
          "output_type": "stream",
          "text": [
            "WARNING:root:Closing connection to TCP server.\n"
          ]
        },
        {
          "name": "stdout",
          "output_type": "stream",
          "text": [
            "✓ Connection closed\n"
          ]
        }
      ],
      "source": [
        "# Cleanup\n",
        "await backend.stop()\n",
        "print(\"✓ Connection closed\")\n"
      ]
    }
  ],
  "metadata": {
    "kernelspec": {
      "display_name": ".venv",
      "language": "python",
      "name": "python3"
    },
    "language_info": {
      "codemirror_mode": {
        "name": "ipython",
        "version": 3
      },
      "file_extension": ".py",
      "mimetype": "text/x-python",
      "name": "python",
      "nbconvert_exporter": "python",
      "pygments_lexer": "ipython3",
      "version": "3.10.18"
    }
  },
  "nbformat": 4,
  "nbformat_minor": 2
}
