{
  "cells": [
    {
      "cell_type": "markdown",
      "metadata": {},
      "source": [
        "# Nimbus Connection Test"
      ]
    },
    {
      "cell_type": "code",
      "execution_count": null,
      "metadata": {},
      "outputs": [],
      "source": [
        "import sys\n",
        "import logging\n",
        "from pathlib import Path\n",
        "\n",
        "from pylabrobot.liquid_handling.backends.hamilton.hamilton_tcp_backend import HamiltonTCPBase\n",
        "from pylabrobot.liquid_handling.backends.hamilton.tcp_introspection import HamiltonIntrospection\n",
        "from pylabrobot.liquid_handling.backends.hamilton.packets import Address\n",
        "from pylabrobot.liquid_handling.backends.hamilton.commands import HamiltonCommand\n",
        "from pylabrobot.liquid_handling.backends.hamilton.protocol import HamiltonProtocol\n",
        "from pylabrobot.liquid_handling.backends.hamilton.hoi_params import HoiParams, HoiParamsParser\n",
        "\n",
        "# plr_logger = logging.getLogger('pylabrobot')\n",
        "# plr_logger.setLevel(logging.INFO)  # INFO for normal use, DEBUG for troubleshooting\n",
        "#  Clear existing handlers and add console handler\n",
        "# plr_logger.handlers.clear()\n",
        "# console_handler = logging.StreamHandler(sys.stdout)\n",
        "# console_handler.setFormatter(logging.Formatter('%(levelname)s - %(message)s'))\n",
        "# plr_logger.addHandler(console_handler)\n"
      ]
    },
    {
      "cell_type": "code",
      "execution_count": 2,
      "metadata": {},
      "outputs": [
        {
          "name": "stdout",
          "output_type": "stream",
          "text": [
            "\n",
            "============================================================\n",
            "SETUP COMPLETE\n",
            "============================================================\n",
            "Client ID: 15\n",
            "Client Address: 2:15:65535\n",
            "Root Objects: [Address(module=1, node=1, object=48896)]\n"
          ]
        }
      ],
      "source": [
        "# Connect and setup\n",
        "backend = HamiltonTCPBase(\n",
        "    host=\"192.168.100.100\",\n",
        "    port=2000,\n",
        "    read_timeout=30,\n",
        "    write_timeout=30\n",
        ")\n",
        "\n",
        "await backend.setup()\n",
        "\n",
        "print(\"\\n\" + \"=\"*60)\n",
        "print(\"SETUP COMPLETE\")\n",
        "print(\"=\"*60)\n",
        "print(f\"Client ID: {backend._client_id}\")\n",
        "print(f\"Client Address: {backend.client_address}\")\n",
        "print(f\"Root Objects: {backend._discovered_objects.get('root', [])}\")\n"
      ]
    },
    {
      "cell_type": "code",
      "execution_count": null,
      "metadata": {},
      "outputs": [
        {
          "name": "stdout",
          "output_type": "stream",
          "text": [
            "✓ Object at 1:1:48896:\n",
            "  Name: NimbusCORE\n",
            "  Version: 1.0\n",
            "  Methods: 41\n",
            "  Subobjects: 31\n"
          ]
        }
      ],
      "source": [
        "# Get name of root object\n",
        "introspection = HamiltonIntrospection(backend)\n",
        "root_address = backend._discovered_objects['root'][0]\n",
        "\n",
        "root_info = await introspection.get_object(root_address)\n",
        "\n",
        "print(f\"✓ Object at {root_address}:\")\n",
        "print(f\"  Name: {root_info.name}\")\n",
        "print(f\"  Version: {root_info.version}\")\n",
        "print(f\"  Methods: {root_info.method_count}\")\n",
        "print(f\"  Subobjects: {root_info.subobject_count}\")"
      ]
    },
    {
      "cell_type": "code",
      "execution_count": null,
      "metadata": {},
      "outputs": [
        {
          "name": "stdout",
          "output_type": "stream",
          "text": [
            "🔍 Testing subobject traversal on NimbusCORE (31 subobjects)...\n",
            "  [0] 1:1:259: Ethernet\n",
            "  [1] 1:1:263: BoanduzCAN\n",
            "  [2] 1:1:768: IoNotification\n",
            "  [3] 1:1:260: XDrive\n",
            "  [4] 1:1:257: Pipette\n",
            "  [5] 1:1:262: ChannelCoord\n",
            "  [6] 1:1:261: XYCoord\n",
            "  [7] 1:1:265: GripperXYCoord\n",
            "  [8] 1:1:266: HDDeck\n",
            "  [9] 1:1:258: Calibration\n",
            "  [10] 1:1:48880: Service\n",
            "  [11] 1:1:270: PipetteTeach\n",
            "  [12] 1:1:271: GripperTeach\n",
            "  [13] 1:1:269: GantryScanner\n",
            "  [14] 1:1:384: Configuration\n",
            "  [15] 1:1:49152: CPU\n",
            "  [16] 1:1:49408: CPU\n",
            "  [17] 1:1:272: Channel\n",
            "  [18] 1:1:49409: CPU\n",
            "  [19] 1:1:273: Channel\n",
            "  [20] 1:1:49410: CPU\n",
            "  [21] 1:1:274: Channel\n",
            "  [22] 1:1:49411: CPU\n",
            "  [23] 1:1:275: Channel\n",
            "  [24] 1:1:264: Gripper\n",
            "  [25] 1:1:268: DoorLock\n",
            "  [26] 1:128:48896: LeftDoorLockUnit\n",
            "  [27] 1:129:48896: RightDoorLockUnit\n",
            "  [28] 1:96:48896: BarcodeScanner0\n",
            "  [29] 1:32:48896: DAC0\n",
            "  [30] 96:1:48896: IoBoard\n",
            "\n",
            "✅ Subobject traversal test complete!\n"
          ]
        }
      ],
      "source": [
        "# Test subobject traversal with fixed implementation\n",
        "introspection = HamiltonIntrospection(backend)\n",
        "\n",
        "# Test with NimbusCORE\n",
        "root_address = backend._discovered_objects['root'][0]\n",
        "root_info = await introspection.get_object(root_address)\n",
        "\n",
        "print(f\"🔍 Testing subobject traversal on {root_info.name} ({root_info.subobject_count} subobjects)...\")\n",
        "\n",
        "# Try getting subobjects\n",
        "for i in range(root_info.subobject_count):\n",
        "    try:\n",
        "        sub_addr = await introspection.get_subobject_address(root_address, i)\n",
        "        sub_info = await introspection.get_object(sub_addr)\n",
        "        print(f\"  [{i}] {sub_addr}: {sub_info.name}\")\n",
        "    except Exception as e:\n",
        "        print(f\"  [{i}] Error: {type(e).__name__}: {str(e)[:50]}\")\n",
        "\n",
        "print(\"\\n✅ Subobject traversal test complete!\")"
      ]
    },
    {
      "cell_type": "code",
      "execution_count": 5,
      "metadata": {},
      "outputs": [
        {
          "name": "stdout",
          "output_type": "stream",
          "text": [
            "🔒 DoorLock Methods at 1:1:268\n",
            "==================================================\n",
            "Method Signatures:\n",
            "==================================================\n",
            "  LockDoor(void) -> void\n",
            "    Interface: 1, Method ID: 1\n",
            "\n",
            "  UnlockDoor(void) -> void\n",
            "    Interface: 1, Method ID: 2\n",
            "\n",
            "  IsDoorLocked(#) -> Locked\n",
            "    Interface: 1, Method ID: 3\n",
            "\n",
            "  ObjectInfo(\u0017\u0017\u0016\u0014) -> name,version,methods,subobjects\n",
            "    Interface: 0, Method ID: 1\n",
            "\n",
            "  MethodInfo(\u0006\u0012\u0012\u0014\u0017\u0017\u0017) -> method,interfaceid,action,actionid,name,parametertypes,parameternames\n",
            "    Interface: 0, Method ID: 2\n",
            "\n",
            "  SubObjectInfo(\u0004\u0014\u0014\u0014) -> subobject,moduleID,nodeID,objectID\n",
            "    Interface: 0, Method ID: 3\n",
            "\n",
            "  InterfaceDescriptors(\u0018L) -> interfaceIds,interfaceDescriptors\n",
            "    Interface: 0, Method ID: 4\n",
            "\n",
            "  EnumInfo(\u0002L73L) -> interfaceId,enumerationNames,numberEnumerationValues,enumerationValues,enumerationValueDescriptions\n",
            "    Interface: 0, Method ID: 5\n",
            "\n",
            "  StructInfo(\u0002L7\u0018L) -> interfaceId,structNames,numberStructureElements,structureElementTypes,structureElementDescriptions\n",
            "    Interface: 0, Method ID: 6\n",
            "\n"
          ]
        }
      ],
      "source": [
        "door_addr = Address(1, 1, 268)\n",
        "\n",
        "print(f\"🔒 DoorLock Methods at {door_addr}\")\n",
        "print(\"=\" * 50)\n",
        "\n",
        "methods = await introspection.get_all_methods(door_addr)\n",
        "introspection.print_method_signatures(methods)"
      ]
    },
    {
      "cell_type": "code",
      "execution_count": null,
      "metadata": {},
      "outputs": [
        {
          "name": "stdout",
          "output_type": "stream",
          "text": [
            "Current: UNLOCKED\n",
            "After lock: LOCKED\n"
          ]
        }
      ],
      "source": [
        "# DoorLock commands (via HamiltonCommand) + lock-if-unlocked\n",
        "class LockDoor(HamiltonCommand):\n",
        "    protocol = HamiltonProtocol.OBJECT_DISCOVERY\n",
        "    interface_id = 1\n",
        "    command_id = 1\n",
        "    def build_parameters(self) -> HoiParams:\n",
        "        return HoiParams()\n",
        "    @classmethod\n",
        "    def parse_response_parameters(cls, data: bytes) -> dict:\n",
        "        return {\"success\": True}\n",
        "\n",
        "class UnlockDoor(HamiltonCommand):\n",
        "    protocol = HamiltonProtocol.OBJECT_DISCOVERY\n",
        "    interface_id = 1\n",
        "    command_id = 2\n",
        "    def build_parameters(self) -> HoiParams:\n",
        "        return HoiParams()\n",
        "    @classmethod\n",
        "    def parse_response_parameters(cls, data: bytes) -> dict:\n",
        "        return {\"success\": True}\n",
        "\n",
        "class IsDoorLocked(HamiltonCommand):\n",
        "    protocol = HamiltonProtocol.OBJECT_DISCOVERY\n",
        "    interface_id = 1\n",
        "    command_id = 3\n",
        "    action_code = 0 # Must be 0 (STATUS_REQUEST), default is 3 (COMMAND_REQUEST)\n",
        "    def build_parameters(self) -> HoiParams:\n",
        "        return HoiParams()\n",
        "    @classmethod\n",
        "    def parse_response_parameters(cls, data: bytes) -> dict:\n",
        "        t, v = HoiParamsParser(data).parse_next()\n",
        "        return {\"locked\": bool(v)}\n",
        "\n",
        "door_addr = Address(1, 1, 268)\n",
        "\n",
        "# Check and lock if needed\n",
        "status = await backend.send_command(IsDoorLocked(door_addr))\n",
        "print(f\"Current: {'LOCKED' if status['locked'] else 'UNLOCKED'}\")\n",
        "if not status[\"locked\"]:\n",
        "    await backend.send_command(LockDoor(door_addr))\n",
        "    status = await backend.send_command(IsDoorLocked(door_addr))\n",
        "    print(f\"After lock: {'LOCKED' if status['locked'] else 'UNLOCKED'}\")\n",
        "else:\n",
        "    print(\"No action (already locked)\")"
      ]
    },
    {
      "cell_type": "code",
      "execution_count": 7,
      "metadata": {},
      "outputs": [
        {
          "name": "stdout",
          "output_type": "stream",
          "text": [
            "Current: LOCKED\n",
            "After unlock: UNLOCKED\n"
          ]
        }
      ],
      "source": [
        "# Check and unlock if needed\n",
        "status = await backend.send_command(IsDoorLocked(door_addr))\n",
        "print(f\"Current: {'LOCKED' if status['locked'] else 'UNLOCKED'}\")\n",
        "if status[\"locked\"]:\n",
        "    await backend.send_command(UnlockDoor(door_addr))\n",
        "    status = await backend.send_command(IsDoorLocked(door_addr))\n",
        "    print(f\"After unlock: {'LOCKED' if status['locked'] else 'UNLOCKED'}\")\n",
        "else:\n",
        "    print(\"No action (already unlocked)\")"
      ]
    },
    {
      "cell_type": "code",
      "execution_count": 8,
      "metadata": {},
      "outputs": [
        {
          "name": "stderr",
          "output_type": "stream",
          "text": [
            "WARNING:root:Closing connection to TCP server.\n"
          ]
        }
      ],
      "source": [
        "await backend.stop()"
      ]
    }
  ],
  "metadata": {
    "kernelspec": {
      "display_name": ".venv",
      "language": "python",
      "name": "python3"
    },
    "language_info": {
      "codemirror_mode": {
        "name": "ipython",
        "version": 3
      },
      "file_extension": ".py",
      "mimetype": "text/x-python",
      "name": "python",
      "nbconvert_exporter": "python",
      "pygments_lexer": "ipython3",
      "version": "3.10.18"
    }
  },
  "nbformat": 4,
  "nbformat_minor": 2
}
