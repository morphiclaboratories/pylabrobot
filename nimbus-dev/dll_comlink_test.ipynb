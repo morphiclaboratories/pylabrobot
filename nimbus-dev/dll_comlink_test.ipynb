{
 "cells": [
  {
   "cell_type": "markdown",
   "id": "22b39e37",
   "metadata": {},
   "source": [
    "# 1. TCP Comlink"
   ]
  },
  {
   "cell_type": "code",
   "execution_count": null,
   "id": "b7ad929a",
   "metadata": {},
   "outputs": [],
   "source": [
    "# Imports and Setup\n",
    "import asyncio\n",
    "import logging\n",
    "\n",
    "from pylabrobot.io.capture import start_capture, stop_capture, capturer\n",
    "from pylabrobot.liquid_handling.backends.hamilton.nimbus import TcpComLinkProxy, NIMBUSCOREDLL, COMLINKDLL, PROTOCOLSDLL\n",
    "import System # type: ignore\n",
    "\n",
    "ip_address = \"192.168.100.100\"\n",
    "port = 2000\n",
    "\n",
    "#start_capture() # Pylabrobot logging for comlink traffic\n",
    "\n",
    "#Setup instrument connection\n",
    "proxy = TcpComLinkProxy(ip_address, port, client_id=\"test_client\")\n",
    "# Run commands\n",
    "await proxy.setup()\n"
   ]
  },
  {
   "cell_type": "code",
   "execution_count": 2,
   "id": "acd211fd",
   "metadata": {},
   "outputs": [
    {
     "name": "stdout",
     "output_type": "stream",
     "text": [
      "  Found 4 modules:\n",
      "    - NimbusCORE (Address: 0x0001.0x0001.0xBF00)\n",
      "\tCreating NimbusCore Instance\n",
      "    - NimbusCOREGlobalObjects (Address: 0x0001.0x0001.0xBF01)\n",
      "    - NimbusIoBoardGlobalObjects (Address: 0x0060.0x0001.0xBF01)\n",
      "    - IoBoard (Address: 0x0060.0x0001.0xBF00)\n",
      "Number of channels: 4\n"
     ]
    }
   ],
   "source": [
    "# Get modules\n",
    "modules = await proxy.get_modules()\n",
    "print(f\"  Found {len(modules)} modules:\")\n",
    "# Get module information and setup NimbusCORE Control Module\n",
    "for module in modules:\n",
    "    print(f\"    - {module.Name} (Address: {module.Address})\")\n",
    "\n",
    "    if module.Name == \"NimbusCORE\":\n",
    "        print(\"\\tCreating NimbusCore Instance\")\n",
    "        NimbusCORESystem = NIMBUSCOREDLL.GetType(\"Hamilton.NimbusCORE.NimbusCORESystem\")\n",
    "        nimbus_core = System.Activator.CreateInstance(NimbusCORESystem,\n",
    "                                               proxy.get_comlink(),\n",
    "                                               module.Address)\n",
    "\n",
    "# Get number of channels\n",
    "print(f'Number of channels: {nimbus_core.NimbusCORE.GetChannelConfiguration()[0]}')\n",
    "# Getting Pipetting Sub-Module from NimbusCore Control\n",
    "pipettor = nimbus_core.NimbusCORE.Pipettor\n"
   ]
  },
  {
   "cell_type": "code",
   "execution_count": 3,
   "id": "bb00841c",
   "metadata": {},
   "outputs": [
    {
     "name": "stdout",
     "output_type": "stream",
     "text": [
      "   ✓ Found door lock object: <class 'Hamilton.NimbusCORE.CNimbusDoorLock'>\n",
      "   ✓ Door Locked: False\n",
      "   ✓ Door locked successfully\n"
     ]
    }
   ],
   "source": [
    "# Get instrument and door lock status\n",
    "door_lock_object = nimbus_core.NimbusCORE.DoorLock\n",
    "print(f\"   ✓ Found door lock object: {type(door_lock_object)}\")\n",
    "\n",
    "# Check door solenoid status\n",
    "is_door_locked = door_lock_object.IsDoorLocked()\n",
    "print(f\"   ✓ Door Locked: {is_door_locked}\")\n",
    "\n",
    "if is_door_locked is False:\n",
    "  # Lock the door\n",
    "  door_lock_object.LockDoor()\n",
    "  print(\"   ✓ Door locked successfully\")"
   ]
  },
  {
   "cell_type": "code",
   "execution_count": 4,
   "id": "12d945ae",
   "metadata": {},
   "outputs": [],
   "source": [
    "# Preinitialize\n",
    "pipettor.PreinitializeSmart()"
   ]
  },
  {
   "cell_type": "code",
   "execution_count": 5,
   "id": "cd654437",
   "metadata": {},
   "outputs": [],
   "source": [
    "# Park channels\n",
    "pipettor.Park()"
   ]
  },
  {
   "cell_type": "code",
   "execution_count": 6,
   "id": "269725d6",
   "metadata": {},
   "outputs": [
    {
     "name": "stdout",
     "output_type": "stream",
     "text": [
      "   ✓ Door Locked: True\n",
      "   ✓ Door unlocked successfully\n"
     ]
    }
   ],
   "source": [
    "# Check door solenoid status\n",
    "is_door_locked = door_lock_object.IsDoorLocked()\n",
    "print(f\"   ✓ Door Locked: {is_door_locked}\")\n",
    "\n",
    "if is_door_locked is True:\n",
    "  # Lock the door\n",
    "  door_lock_object.UnlockDoor()\n",
    "  print(\"   ✓ Door unlocked successfully\")"
   ]
  },
  {
   "cell_type": "code",
   "execution_count": 7,
   "id": "387a4e25",
   "metadata": {},
   "outputs": [],
   "source": [
    "# Close out\n",
    "await proxy.stop()\n",
    "#stop_capture()"
   ]
  },
  {
   "cell_type": "code",
   "execution_count": null,
   "id": "a1c50808",
   "metadata": {},
   "outputs": [],
   "source": []
  }
 ],
 "metadata": {
  "kernelspec": {
   "display_name": ".venv",
   "language": "python",
   "name": "python3"
  },
  "language_info": {
   "codemirror_mode": {
    "name": "ipython",
    "version": 3
   },
   "file_extension": ".py",
   "mimetype": "text/x-python",
   "name": "python",
   "nbconvert_exporter": "python",
   "pygments_lexer": "ipython3",
   "version": "3.10.18"
  }
 },
 "nbformat": 4,
 "nbformat_minor": 5
}
